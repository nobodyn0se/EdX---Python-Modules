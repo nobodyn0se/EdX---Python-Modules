{
 "cells": [
  {
   "cell_type": "code",
   "execution_count": 1,
   "metadata": {},
   "outputs": [
    {
     "name": "stdout",
     "output_type": "stream",
     "text": [
      "linux\n"
     ]
    }
   ],
   "source": [
    "import sys\n",
    "print(sys.platform)"
   ]
  },
  {
   "cell_type": "code",
   "execution_count": 33,
   "metadata": {},
   "outputs": [
    {
     "name": "stdout",
     "output_type": "stream",
     "text": [
      "5\t2\t6\t\n",
      "4\t6\t0\t\n",
      "9\t1\t8\t\n",
      "7\t3\t8\t\n"
     ]
    }
   ],
   "source": [
    "# list of lists\n",
    "table = [[5, 2, 6], [4, 6, 0], [9, 1, 8], [7, 3, 8]]\n",
    "\n",
    "for row in table:\n",
    "    for col in row:\n",
    "        # print the value col followed by a tab\n",
    "        print(col, end = \"\\t\")\n",
    "\n",
    "    # Print a new line\n",
    "    print()"
   ]
  },
  {
   "cell_type": "code",
   "execution_count": 37,
   "metadata": {},
   "outputs": [
    {
     "name": "stdout",
     "output_type": "stream",
     "text": [
      "Enter the number of steps 9\n",
      "[]\n",
      "[][]\n",
      "[][][]\n",
      "[][][][]\n",
      "[][][][][]\n",
      "[][][][][][]\n",
      "[][][][][][][]\n",
      "[][][][][][][][]\n",
      "[][][][][][][][][]\n"
     ]
    }
   ],
   "source": [
    "# Generate a staircase character art\n",
    "# Size controls the number of steps\n",
    "def char_art(steps):\n",
    "    for row in range(steps):\n",
    "        for col in range(steps):\n",
    "            if(col <= row):\n",
    "                print(\"[]\", end = \"\")\n",
    "        print()\n",
    "\n",
    "# Generate a staircase with 6 steps                \n",
    "n = int(input(\"Enter the number of steps \"))\n",
    "char_art(n)"
   ]
  },
  {
   "cell_type": "code",
   "execution_count": 41,
   "metadata": {},
   "outputs": [
    {
     "name": "stdout",
     "output_type": "stream",
     "text": [
      "13\n",
      "10\n",
      "18\n",
      "18\n"
     ]
    }
   ],
   "source": [
    "# [ ] Write a program to display the sum of each row in table\n",
    "table = [[5, 2, 6], [4, 6, 0], [9, 1, 8], [7, 3, 8]]\n",
    "total = 0\n",
    "\n",
    "for row in table:\n",
    "    for col in row:\n",
    "        total += col \n",
    "    print(total)\n",
    "    total = 0\n",
    "    "
   ]
  },
  {
   "cell_type": "code",
   "execution_count": 48,
   "metadata": {},
   "outputs": [],
   "source": [
    "# [ ] Complete the function `generate_star` so it displays a star of variable `size` using \"*\"\n",
    "# For size = 5 the star should look like:\n",
    "# *   *\n",
    "#  * * \n",
    "#   *  \n",
    "#  * * \n",
    "# *   *\n",
    "\n",
    "def generate_star(size):\n",
    "    pass\n",
    "\n",
    "\n",
    "# Display star\n",
    "generate_star(5)"
   ]
  },
  {
   "cell_type": "code",
   "execution_count": 45,
   "metadata": {},
   "outputs": [
    {
     "name": "stdout",
     "output_type": "stream",
     "text": [
      "Pattern 1\n",
      "    *\n",
      "   ***\n",
      "  *****\n",
      " *******\n",
      "*********\n",
      " *******\n",
      "  *****\n",
      "   ***\n",
      "    *\n"
     ]
    }
   ],
   "source": [
    "n = 9\n",
    "print(\"Pattern 1\")\n",
    "for a1 in range(1, (n+1)//2 + 1): #from row 1 to 5\n",
    "    for a2 in range((n+1)//2 - a1):\n",
    "        print(\" \", end = \"\")\n",
    "    for a3 in range((a1*2)-1):\n",
    "        print(\"*\", end = \"\")\n",
    "    print()\n",
    "\n",
    "for a1 in range((n+1)//2 + 1, n + 1): #from row 6 to 9\n",
    "    for a2 in range(a1 - (n+1)//2):\n",
    "        print(\" \", end = \"\")\n",
    "    for a3 in range((n+1 - a1)*2 - 1):\n",
    "        print(\"*\", end = \"\")\n",
    "    print()"
   ]
  },
  {
   "cell_type": "code",
   "execution_count": 47,
   "metadata": {},
   "outputs": [
    {
     "name": "stdout",
     "output_type": "stream",
     "text": [
      "       *\n",
      "      ***\n",
      "     *****\n",
      "    *******\n",
      "   *********\n",
      "  ***********\n",
      " *************\n",
      "***************\n"
     ]
    }
   ],
   "source": [
    "def pyramid(rows=8):\n",
    "    for i in range(rows):\n",
    "        print(' '*(rows-i-1) + '*'*(2*i+1))\n",
    "\n",
    "pyramid(8)"
   ]
  },
  {
   "cell_type": "code",
   "execution_count": 49,
   "metadata": {},
   "outputs": [
    {
     "name": "stdout",
     "output_type": "stream",
     "text": [
      "     #\n",
      "    # #\n",
      "   #   #\n",
      "  #     #\n",
      " #       #\n",
      "#         #\n",
      "###########"
     ]
    }
   ],
   "source": [
    "# Python program to print a hollow \n",
    "# pyramid pattern\n",
    " \n",
    "def printPattern( n) :\n",
    "    k = 0\n",
    "    for i in range(1,n+1) : #row 6\n",
    "     \n",
    "        # Print spaces\n",
    "        for j in range(i,n) :\n",
    "            print(' ', end='')\n",
    "         \n",
    "        # Print #\n",
    "        while (k != (2 * i - 1)) :\n",
    "            if (k == 0 or k == 2 * i - 2) :\n",
    "                print('#', end='')\n",
    "            else :\n",
    "                print(' ', end ='')\n",
    "            k = k + 1\n",
    "        k = 0;\n",
    "        print (\"\") # print next row\n",
    "         \n",
    "    # print last row\n",
    "    for i in range(0, 2 * n -1) :\n",
    "        print ('#', end = '')\n",
    " # Driver code \n",
    "n = 6\n",
    "printPattern(n)\n",
    " \n",
    "# This code is contributed by Nikita Tiwari."
   ]
  },
  {
   "cell_type": "code",
   "execution_count": 55,
   "metadata": {},
   "outputs": [
    {
     "name": "stdout",
     "output_type": "stream",
     "text": [
      "     #\n",
      "    # #\n",
      "   #   #\n",
      "  #     #\n",
      " #       #\n",
      "#         #\n",
      " #       #\n",
      "  #     #\n",
      "   #   #\n",
      "    # #\n",
      "     #\n"
     ]
    }
   ],
   "source": [
    "def printPattern(n) :\n",
    "    k = 0;\n",
    " \n",
    "    # Print upper triangle\n",
    "    for i in range(1,n+1) :\n",
    " \n",
    "        # Print spaces\n",
    "        for j in range(1,n-i+1) :\n",
    "            print(\" \",end=\"\")\n",
    "             \n",
    "        # Print #\n",
    "        while (k != (2 * i - 1)) :\n",
    "            if (k == 0 or k == 2 * i - 2) :\n",
    "                print(\"#\",end=\"\")\n",
    "            else :\n",
    "                print(\" \",end=\"\")\n",
    "            k = k + 1\n",
    "             \n",
    "        k = 0\n",
    " \n",
    "        # move to next row\n",
    "        print(\"\"),\n",
    "     \n",
    "    n = n - 1\n",
    " \n",
    "    # Print lower triangle\n",
    "    for i in range (n,0,-1) :\n",
    "        # Print spaces\n",
    "        for j in range(0,n-i+1) :\n",
    "            print(\" \",end=\"\")\n",
    "             \n",
    "        # Print #\n",
    "        k = 0\n",
    "        while (k != (2 * i - 1)) :\n",
    "            if (k == 0 or k == 2 * i - 2) :\n",
    "                print(\"#\",end=\"\")\n",
    "            else :\n",
    "                print(\" \",end=\"\")\n",
    "            k = k + 1\n",
    "         \n",
    "        print(\"\"),\n",
    "             \n",
    "# Driver code\n",
    "n = 6\n",
    "printPattern(n)\n",
    " \n",
    "# This code is contributed by Nikita Tiwari."
   ]
  },
  {
   "cell_type": "code",
   "execution_count": null,
   "metadata": {},
   "outputs": [],
   "source": []
  }
 ],
 "metadata": {
  "kernelspec": {
   "display_name": "Python 3",
   "language": "python",
   "name": "python3"
  },
  "language_info": {
   "codemirror_mode": {
    "name": "ipython",
    "version": 3
   },
   "file_extension": ".py",
   "mimetype": "text/x-python",
   "name": "python",
   "nbconvert_exporter": "python",
   "pygments_lexer": "ipython3",
   "version": "3.5.4"
  }
 },
 "nbformat": 4,
 "nbformat_minor": 2
}
