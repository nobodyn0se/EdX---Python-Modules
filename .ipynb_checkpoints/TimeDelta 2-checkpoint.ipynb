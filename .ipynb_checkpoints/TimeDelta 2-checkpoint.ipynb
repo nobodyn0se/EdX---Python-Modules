{
  "cells": [
    {
      "metadata": {
        "trusted": false
      },
      "cell_type": "code",
      "source": "from datetime import datetime, timedelta\n\n# Define a timedelta object\none_hundred_days = timedelta(days = 100)\n\n# Get today's date\ncurrent_date = datetime.today()\n\n# Compute the new date\nnew_date = current_date + one_hundred_days\n\n# Print formatted new date\nprint(\"After 100 days:\", new_date.strftime(\"%b/%d/%Y %H %M %S\"))",
      "execution_count": 5,
      "outputs": [
        {
          "name": "stdout",
          "output_type": "stream",
          "text": "After 100 days: Aug/06/2018 14 42 44\n"
        }
      ]
    },
    {
      "metadata": {
        "trusted": true
      },
      "cell_type": "code",
      "source": "from datetime import datetime, timedelta\n\n# Define the timedelta objects\none_hundred_days = timedelta(days = 100)\ntwo_hundred_days = one_hundred_days * 2\nthree_hundred_days = one_hundred_days * 3\n\n# Get today's date\ncurrent_date = datetime.today()\n\n# Compute the new dates\nnew_date1 = current_date + two_hundred_days\nnew_date2 = current_date + three_hundred_days\n\n# Print formatted new dates\nprint(\"After 200 days:\", new_date1.strftime(\"%b/%d/%Y\"))\nprint(\"After 300 days:\", new_date2.strftime(\"%b/%d/%Y\"))",
      "execution_count": 1,
      "outputs": [
        {
          "output_type": "stream",
          "text": "After 200 days: Mar/20/2019\nAfter 300 days: Jun/28/2019\n",
          "name": "stdout"
        }
      ]
    },
    {
      "metadata": {
        "trusted": false
      },
      "cell_type": "code",
      "source": "from datetime import date,datetime,timedelta\nreminder = timedelta(weeks = 3)\nbday = date(2018,11,20)\ninvite = bday - reminder\nprint(\"Your birthday is on\",bday.strftime(\"%d %B %Y\"))\nprint(\"Invites would be sent 3 weeks before on\",invite.strftime(\"%d %B %Y\"))",
      "execution_count": 9,
      "outputs": [
        {
          "name": "stdout",
          "output_type": "stream",
          "text": "Your birthday is on 20 November 2018\nInvites would be sent 3 weeks before on 30 October 2018\n"
        }
      ]
    },
    {
      "metadata": {
        "trusted": true
      },
      "cell_type": "code",
      "source": "from datetime import date,datetime,timedelta\nfrom math import ceil, floor\ncurrentDate = datetime.today()\nprint(currentDate)\n\nformat = \"%m %d %Y\"\na = currentDate\nb = datetime(month=5,day=15,year=2019)\n\ndelta = b -a \nprint(\"Vacations start within\",delta.days,\"days\")\nmonths = floor(delta.days/30.5)\nprint(\"Months =\",months)\n",
      "execution_count": 13,
      "outputs": [
        {
          "output_type": "stream",
          "text": "2018-09-01 11:17:28.574044\nVacations start within 255 days\nMonths = 8\n",
          "name": "stdout"
        }
      ]
    }
  ],
  "metadata": {
    "kernelspec": {
      "name": "python3",
      "display_name": "Python 3",
      "language": "python"
    },
    "language_info": {
      "mimetype": "text/x-python",
      "nbconvert_exporter": "python",
      "name": "python",
      "file_extension": ".py",
      "version": "3.5.4",
      "pygments_lexer": "ipython3",
      "codemirror_mode": {
        "version": 3,
        "name": "ipython"
      }
    }
  },
  "nbformat": 4,
  "nbformat_minor": 2
}