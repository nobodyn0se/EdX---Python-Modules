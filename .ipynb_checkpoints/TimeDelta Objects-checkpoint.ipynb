{
 "cells": [
  {
   "cell_type": "code",
   "execution_count": 13,
   "metadata": {},
   "outputs": [
    {
     "name": "stdout",
     "output_type": "stream",
     "text": [
      "7095 days, 17:55:39.958092\n",
      "Age in seconds 613.072539958092 million\n",
      "7 days, 2:00:00\n"
     ]
    }
   ],
   "source": [
    "#Calculating current age\n",
    "\n",
    "from datetime import datetime,date,time,timedelta \n",
    "from math import ceil\n",
    "d = datetime(month = 11,day = 20,year = 1998, hour = 23, minute = 53)\n",
    "d2 = datetime.today()\n",
    "delta = d2 - d\n",
    "print(delta)\n",
    "print(\"Age in seconds\",(delta.total_seconds()/1000000),\"million\")\n",
    "\n",
    "delta1 = timedelta(days = 7,  hours = 2)\n",
    "print(delta1)"
   ]
  },
  {
   "cell_type": "code",
   "execution_count": 17,
   "metadata": {},
   "outputs": [
    {
     "name": "stdout",
     "output_type": "stream",
     "text": [
      "30 days, 1:15:00  is stored in delta1\n",
      "Days =  30 | Seconds =  4500 | Microseconds =  0\n",
      "Total number of seconds =  2596500.0\n"
     ]
    }
   ],
   "source": [
    "# Define a timedelta object\n",
    "delta1 = timedelta(days = 2, seconds = 0, minutes = 15, hours = 1, weeks = 4)\n",
    "print(delta1, \" is stored in delta1\")\n",
    "\n",
    "# Get the stored attributes\n",
    "d = delta1.days \n",
    "s = delta1.seconds \n",
    "ms = delta1.microseconds\n",
    "print(\"Days = \", d, \"| Seconds = \", s, \"| Microseconds = \", ms)\n",
    "\n",
    "# Get total number of seconds\n",
    "all_seconds = delta1.total_seconds()\n",
    "print(\"Total number of seconds = \", all_seconds)\n"
   ]
  },
  {
   "cell_type": "code",
   "execution_count": 21,
   "metadata": {},
   "outputs": [
    {
     "name": "stdout",
     "output_type": "stream",
     "text": [
      "7 days, 2:03:00\n",
      "4500.0\n"
     ]
    }
   ],
   "source": [
    "# [ ] Create a `timedelta` object that contains: 2 hours, 3 minutes, and 1 week\n",
    "tdo = timedelta(hours = 2, minutes = 3, weeks = 1)\n",
    "print(tdo)\n",
    "\n",
    "# [ ] Use a `timedelta` object to calculate the total number of seconds in: 1 hour and 15 minutes\n",
    "s = timedelta(hours = 1, minutes = 15)\n",
    "print(s.total_seconds())"
   ]
  },
  {
   "cell_type": "code",
   "execution_count": 26,
   "metadata": {},
   "outputs": [
    {
     "name": "stdout",
     "output_type": "stream",
     "text": [
      "208 days, 6:03:10.059300 days left until your birthday \n"
     ]
    }
   ],
   "source": [
    "# Use a `timedelta` object to find out how many days are left until your upcoming birthday\n",
    "df = datetime(year = 2018, month = 11, day = 20)\n",
    "di = datetime.today()\n",
    "delta = df - di\n",
    "print(delta,\"days left until your birthday \")"
   ]
  }
 ],
 "metadata": {
  "kernelspec": {
   "display_name": "Python 3",
   "language": "python",
   "name": "python3"
  },
  "language_info": {
   "codemirror_mode": {
    "name": "ipython",
    "version": 3
   },
   "file_extension": ".py",
   "mimetype": "text/x-python",
   "name": "python",
   "nbconvert_exporter": "python",
   "pygments_lexer": "ipython3",
   "version": "3.5.4"
  }
 },
 "nbformat": 4,
 "nbformat_minor": 2
}
