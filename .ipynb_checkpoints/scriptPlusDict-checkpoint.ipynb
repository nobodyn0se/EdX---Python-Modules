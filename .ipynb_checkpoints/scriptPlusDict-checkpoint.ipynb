{
  "cells": [
    {
      "metadata": {
        "trusted": true
      },
      "cell_type": "code",
      "source": "#Iterate a dictionarry\n\nP = {'Name':'Almaty','Country':'Kazakhstan','Capital':True}\nprint(\"Keys:\")\nfor key in P.keys():\n    print(\"{0} : {1}\".format(key,P[key]))\nprint(\"\")\nprint(\"Values\")\nfor value in P.values():\n    print(value)\n    \n",
      "execution_count": 16,
      "outputs": [
        {
          "output_type": "stream",
          "text": "Keys:\nCapital : True\nCountry : Kazakhstan\nName : Almaty\n\nValues\nTrue\nKazakhstan\nAlmaty\n",
          "name": "stdout"
        }
      ]
    },
    {
      "metadata": {
        "trusted": true
      },
      "cell_type": "code",
      "source": "# [ ] Write a program to display the content of the `records` dictionary as shown here\n# Note the IDs are sorted in an ascending order\n\n'''\n        Name         |     ID     |        Email        \n________________________________________________________\n     Joana Dias      |   23945    |    joana@example.com\n   Tobias Ledford    |   48291    |   tobias@example.com\n       Jin Xu        |   48293    |      jin@example.com\n  Hiroto Yamaguchi   |   48502    |   hiroto@example.com\n  Colette Browning   |   48539    |  colette@example.com\n    Suresh Datta     |   57394    |   suresh@example.com\n     Skye Homsi      |   58302    |     skye@example.com\n    Alton Derosa     |   85823    |    alton@example.com\n'''\nrecords = {57394: ['Suresh Datta', 'suresh@example.com'], 48539: ['Colette Browning', 'colette@example.com'], 58302: ['Skye Homsi', 'skye@example.com'], 48502: ['Hiroto Yamaguchi', 'hiroto@example.com'], 48291: ['Tobias Ledford', 'tobias@example.com'], 48293: ['Jin Xu', 'jin@example.com'], 23945: ['Joana Dias', 'joana@example.com'], 85823: ['Alton Derosa', 'alton@example.com']}\n\nfor key,value in sorted(records.items()):\n    print(key,value)",
      "execution_count": 22,
      "outputs": [
        {
          "output_type": "stream",
          "text": "23945 ['Joana Dias', 'joana@example.com']\n48291 ['Tobias Ledford', 'tobias@example.com']\n48293 ['Jin Xu', 'jin@example.com']\n48502 ['Hiroto Yamaguchi', 'hiroto@example.com']\n48539 ['Colette Browning', 'colette@example.com']\n57394 ['Suresh Datta', 'suresh@example.com']\n58302 ['Skye Homsi', 'skye@example.com']\n85823 ['Alton Derosa', 'alton@example.com']\n",
          "name": "stdout"
        }
      ]
    },
    {
      "metadata": {
        "trusted": true
      },
      "cell_type": "code",
      "source": "%pwd",
      "execution_count": 24,
      "outputs": [
        {
          "output_type": "execute_result",
          "execution_count": 24,
          "data": {
            "text/plain": "'/home/nbuser/library'"
          },
          "metadata": {}
        }
      ]
    },
    {
      "metadata": {
        "trusted": true
      },
      "cell_type": "code",
      "source": "%cd parent_dir",
      "execution_count": 25,
      "outputs": [
        {
          "output_type": "stream",
          "text": "/home/nbuser/library/parent_dir\n",
          "name": "stdout"
        }
      ]
    },
    {
      "metadata": {
        "trusted": true
      },
      "cell_type": "code",
      "source": "%ls",
      "execution_count": 26,
      "outputs": [
        {
          "output_type": "stream",
          "text": "\u001b[0m\u001b[01;34mchild1_dir\u001b[0m/  \u001b[01;34m parent_dir \u001b[0m/  \u001b[01;34mparent_dir\u001b[0m/\r\n",
          "name": "stdout"
        }
      ]
    },
    {
      "metadata": {
        "trusted": true
      },
      "cell_type": "code",
      "source": "%mkdir \"command_line\"",
      "execution_count": 27,
      "outputs": []
    },
    {
      "metadata": {
        "trusted": true
      },
      "cell_type": "code",
      "source": "%cd command_line",
      "execution_count": 28,
      "outputs": [
        {
          "output_type": "stream",
          "text": "/home/nbuser/library/parent_dir/command_line\n",
          "name": "stdout"
        }
      ]
    },
    {
      "metadata": {
        "trusted": true
      },
      "cell_type": "code",
      "source": "%%writefile mainScript.py\ndef func():\n    print(\"Running function\")\n    \ndef main():\n    print(\"Running the main function\")\n    \nif __name__==\"__main__\":\n    main()",
      "execution_count": 30,
      "outputs": [
        {
          "output_type": "stream",
          "text": "Writing mainScript.py\n",
          "name": "stdout"
        }
      ]
    },
    {
      "metadata": {
        "trusted": true
      },
      "cell_type": "code",
      "source": "%%bash\n\npython3 mainScript.py",
      "execution_count": 31,
      "outputs": [
        {
          "output_type": "stream",
          "text": "Running the main function\n",
          "name": "stdout"
        }
      ]
    },
    {
      "metadata": {
        "trusted": true
      },
      "cell_type": "code",
      "source": "!python3 mainScript.py",
      "execution_count": 32,
      "outputs": [
        {
          "output_type": "stream",
          "text": "Running the main function\r\n",
          "name": "stdout"
        }
      ]
    },
    {
      "metadata": {
        "trusted": true
      },
      "cell_type": "code",
      "source": "%%writefile secondaryScript.py\n\nimport mainScript.py\n\nmainScript.func()",
      "execution_count": 33,
      "outputs": [
        {
          "output_type": "stream",
          "text": "Writing secondaryScript.py\n",
          "name": "stdout"
        }
      ]
    },
    {
      "metadata": {
        "trusted": true
      },
      "cell_type": "code",
      "source": "",
      "execution_count": null,
      "outputs": []
    }
  ],
  "metadata": {
    "kernelspec": {
      "name": "python3",
      "display_name": "Python 3",
      "language": "python"
    },
    "language_info": {
      "mimetype": "text/x-python",
      "nbconvert_exporter": "python",
      "name": "python",
      "pygments_lexer": "ipython3",
      "version": "3.5.4",
      "file_extension": ".py",
      "codemirror_mode": {
        "version": 3,
        "name": "ipython"
      }
    }
  },
  "nbformat": 4,
  "nbformat_minor": 2
}