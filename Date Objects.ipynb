{
 "cells": [
  {
   "cell_type": "code",
   "execution_count": 11,
   "metadata": {},
   "outputs": [
    {
     "name": "stdout",
     "output_type": "stream",
     "text": [
      "2018-04-25\n"
     ]
    }
   ],
   "source": [
    "from datetime import datetime, time, date\n",
    "d = date.today()\n",
    "print(d)"
   ]
  },
  {
   "cell_type": "code",
   "execution_count": 4,
   "metadata": {},
   "outputs": [
    {
     "name": "stdout",
     "output_type": "stream",
     "text": [
      "2012-03-28\n"
     ]
    }
   ],
   "source": [
    "cdate = date(year = 2012,month = 3,day = 28)\n",
    "print(cdate)"
   ]
  },
  {
   "cell_type": "code",
   "execution_count": 5,
   "metadata": {},
   "outputs": [
    {
     "name": "stdout",
     "output_type": "stream",
     "text": [
      "Enter the year 2016\n",
      "Enter the month 7\n",
      "Enter the day 14\n",
      "The date entered is 2016-07-14\n"
     ]
    }
   ],
   "source": [
    "y = int(input(\"Enter the year \"))\n",
    "m = int(input(\"Enter the month \"))\n",
    "d = int(input(\"Enter the day \"))\n",
    "dv = date(year = y,month = m,day = d)\n",
    "print(\"The date entered is\",dv)"
   ]
  },
  {
   "cell_type": "code",
   "execution_count": 23,
   "metadata": {},
   "outputs": [
    {
     "name": "stdout",
     "output_type": "stream",
     "text": [
      "17:14:54.051202\n",
      "22:14:54.051202\n"
     ]
    }
   ],
   "source": [
    "dp = datetime.today()\n",
    "print(dp.time())\n",
    "dt = dp.time().hour\n",
    "dm = dp.time().minute\n",
    "dt1 = int(dt) + 5\n",
    "tp = dp.time().replace(dt1)\n",
    "print(tp)\n"
   ]
  },
  {
   "cell_type": "code",
   "execution_count": 29,
   "metadata": {},
   "outputs": [
    {
     "name": "stdout",
     "output_type": "stream",
     "text": [
      "05:39:10 PM\n",
      "17:39:10\n"
     ]
    }
   ],
   "source": [
    "# [ ] Write a program that displays the time: (17:39:10) as:\n",
    "# 1) 05:39:10 PM\n",
    "# 2) 17:39:10\n",
    "\n",
    "t = time(17,39,10)\n",
    "string = t.strftime(\"%I:%M:%S %p\")\n",
    "print(string)\n",
    "string1 = t.strftime(\"%H:%M:%S\")\n",
    "print(string1)"
   ]
  },
  {
   "cell_type": "code",
   "execution_count": 36,
   "metadata": {},
   "outputs": [
    {
     "name": "stdout",
     "output_type": "stream",
     "text": [
      "Oct 23, 2018\n",
      "10/23/18\n",
      "23/October/2018\n",
      "Tuesday October 23\n"
     ]
    }
   ],
   "source": [
    "# [ ] Write a program that displays the date: (October 23rd 2018) as:\n",
    "# 1) Oct 23, 2018\n",
    "# 2) 10/23/18\n",
    "# 3) 23/October/2018\n",
    "# 4) Tuesday October 23\n",
    "\n",
    "d = date(2018,10,23)\n",
    "s1 = d.strftime(\"%b %d, %Y\")\n",
    "print(s1)\n",
    "s2 = d.strftime(\"%m/%d/%y\")\n",
    "print(s2)\n",
    "s3 = d.strftime(\"%d/%B/%Y\")\n",
    "print(s3)\n",
    "s4 = d.strftime(\"%A %B %d\")\n",
    "print(s4)"
   ]
  },
  {
   "cell_type": "code",
   "execution_count": 40,
   "metadata": {},
   "outputs": [
    {
     "name": "stdout",
     "output_type": "stream",
     "text": [
      "Thursday\n"
     ]
    }
   ],
   "source": [
    "# [ ] Complete the function `weekday` to return the weekday name of `some_date`\n",
    "# Use the function to find the weekday on which you were born\n",
    "\n",
    "def weekday(some_date):\n",
    "    #TODO\n",
    "    wday = some_date.strftime(\"%A\")\n",
    "    return wday\n",
    "    \n",
    "# Modify to your birthdate\n",
    "bd = date(day = 18, month = 10, year = 1990)\n",
    "\n",
    "# Display the day on which you were born\n",
    "day = weekday(bd)\n",
    "print(day)\n"
   ]
  }
 ],
 "metadata": {
  "kernelspec": {
   "display_name": "Python 3",
   "language": "python",
   "name": "python3"
  },
  "language_info": {
   "codemirror_mode": {
    "name": "ipython",
    "version": 3
   },
   "file_extension": ".py",
   "mimetype": "text/x-python",
   "name": "python",
   "nbconvert_exporter": "python",
   "pygments_lexer": "ipython3",
   "version": "3.5.4"
  }
 },
 "nbformat": 4,
 "nbformat_minor": 2
}
