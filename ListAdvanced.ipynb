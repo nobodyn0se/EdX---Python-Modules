{
  "cells": [
    {
      "metadata": {
        "trusted": true
      },
      "cell_type": "code",
      "source": "vals = [12,34,56,78,10,100,43,20,50,44]\nvals10 = []\nfor v in vals:\n    if(v%5==0):\n        vals10.append(2*v)\nprint(vals10)",
      "execution_count": 1,
      "outputs": [
        {
          "output_type": "stream",
          "text": "[20, 200, 40, 100]\n",
          "name": "stdout"
        }
      ]
    },
    {
      "metadata": {
        "trusted": true
      },
      "cell_type": "code",
      "source": "",
      "execution_count": null,
      "outputs": []
    }
  ],
  "metadata": {
    "kernelspec": {
      "name": "python3",
      "display_name": "Python 3",
      "language": "python"
    }
  },
  "nbformat": 4,
  "nbformat_minor": 2
}