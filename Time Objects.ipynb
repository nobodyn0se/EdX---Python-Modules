{
 "cells": [
  {
   "cell_type": "code",
   "execution_count": 7,
   "metadata": {},
   "outputs": [
    {
     "name": "stdout",
     "output_type": "stream",
     "text": [
      "08:45:00\n",
      "08:45:01.000150\n"
     ]
    }
   ],
   "source": [
    "from datetime import time\n",
    "t = time(8,45)\n",
    "print(t)\n",
    "t1 = time(8,45,1,150)\n",
    "print(t1)"
   ]
  },
  {
   "cell_type": "code",
   "execution_count": 11,
   "metadata": {},
   "outputs": [
    {
     "name": "stdout",
     "output_type": "stream",
     "text": [
      "15:10:00\n",
      "Hour(s) 15\n"
     ]
    }
   ],
   "source": [
    "t2 = time(hour = 15, minute = 10, second = 0)\n",
    "print(t2)\n",
    "print(\"Hour(s)\",t2.hour) "
   ]
  },
  {
   "cell_type": "code",
   "execution_count": 12,
   "metadata": {},
   "outputs": [
    {
     "name": "stdout",
     "output_type": "stream",
     "text": [
      "Old time 15:10:00\n",
      "New time 16:10:00\n"
     ]
    }
   ],
   "source": [
    "t3 = time(hour = 15, minute = 10, second =0)\n",
    "print(\"Old time\",t3)\n",
    "t4 = t3.replace(hour=16,minute=10)\n",
    "print(\"New time\",t4)"
   ]
  },
  {
   "cell_type": "code",
   "execution_count": null,
   "metadata": {},
   "outputs": [],
   "source": []
  }
 ],
 "metadata": {
  "kernelspec": {
   "display_name": "Python 3",
   "language": "python",
   "name": "python3"
  },
  "language_info": {
   "codemirror_mode": {
    "name": "ipython",
    "version": 3
   },
   "file_extension": ".py",
   "mimetype": "text/x-python",
   "name": "python",
   "nbconvert_exporter": "python",
   "pygments_lexer": "ipython3",
   "version": "3.5.4"
  }
 },
 "nbformat": 4,
 "nbformat_minor": 2
}
