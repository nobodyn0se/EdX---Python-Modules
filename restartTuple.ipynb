{
  "cells": [
    {
      "metadata": {
        "trusted": true
      },
      "cell_type": "code",
      "source": "# [ ] Change the third element of T to [59, 20.4]\n\nT = ([43.6, 34], [49, 59], [50, 34.6], [39, 49])\n\nT[2][:2] = [59, 20.4]\n\nprint(T)",
      "execution_count": 5,
      "outputs": [
        {
          "output_type": "stream",
          "text": "([43.6, 34], [49, 59], [59, 20.4], [39, 49])\n",
          "name": "stdout"
        }
      ]
    },
    {
      "metadata": {
        "trusted": true
      },
      "cell_type": "code",
      "source": "# [ ] Write a program to merge the content of T1 and T2 into one tuple T\n# Correct output should be T = (5, 4, 3, 9, 2, 12)\n# T = ((5, 4, 3), (9, 2, 12)) is an incorrect output\n\n# Hint: Use list to/from tuple conversion\n\nT1 = (5, 4, 3)\nT2 = (9, 2, 12)\n\nlistT1 = list(T1)\nlistT2 = list(T2)\n\nnewList = listT1 + listT2\n\nTL = tuple(newList)\nprint(TL)",
      "execution_count": 6,
      "outputs": [
        {
          "output_type": "stream",
          "text": "(5, 4, 3, 9, 2, 12)\n",
          "name": "stdout"
        }
      ]
    },
    {
      "metadata": {
        "trusted": true
      },
      "cell_type": "code",
      "source": "T = (12, 24, 'name', 'city')\n\n# Slice the tuple into numerical and textual tuples\nnumerical_tuple = T[0:2]\nprint(numerical_tuple)\n\ntextual_tuple = T[-2:] #always moves towards the positive side that is from -2 to -1\nprint(textual_tuple)",
      "execution_count": 7,
      "outputs": [
        {
          "output_type": "stream",
          "text": "(12, 24)\n('name', 'city')\n",
          "name": "stdout"
        }
      ]
    },
    {
      "metadata": {
        "trusted": true
      },
      "cell_type": "code",
      "source": "# Swap variables using tuple unpacking\n\ne1 = 5\ne2 = 109\nprint(\"\\nBefore swapping:\")\nprint(\"e1 = {:3d}\\t e2 = {:3d}\".format(e1, e2))\n\ne1, e2 = e2, e1\n\nprint(\"\\nAfter swapping:\")\nprint(\"e1 = {:3d}\\t e2 = {:3d}\".format(e1, e2))",
      "execution_count": 8,
      "outputs": [
        {
          "output_type": "stream",
          "text": "\nBefore swapping:\ne1 =   5\t e2 = 109\n\nAfter swapping:\ne1 = 109\t e2 =   5\n",
          "name": "stdout"
        }
      ]
    },
    {
      "metadata": {
        "trusted": true
      },
      "cell_type": "code",
      "source": "# Split a full name into the first and last names\ndef split_name(name):\n    names = name.split(\" \")\n    first_name = names[0]\n    last_name = names[-1]\n    # pack the variables into a tuple, then return the tuple\n    return (first_name, last_name)\n\n# Ask user for input\nname = input(\"Enter your full name: \")\n\n# Unpack the returned tuples into first, last variables\n# looks like the function returns 2 variables\nfirst, last = split_name(name)\n\n# Unpacked variables can be used separately\nprint(\"First name: {:s}\".format(first))\nprint(\"Last name: {:s}\".format(last))",
      "execution_count": 10,
      "outputs": [
        {
          "output_type": "stream",
          "name": "stdout",
          "text": "Enter your full name: Raga Swami Murthy\nFirst name: Raga\nLast name: Murthy\n"
        }
      ]
    },
    {
      "metadata": {
        "trusted": true
      },
      "cell_type": "code",
      "source": "#Split the components of T into T1 ad T2\n\nT = (5, 4, 3, 9, 2, 12)\ndef split_tuple(T):\n    T1 = T[:3]\n    T2 = T[-3:]\n    return(T1,T2)\n\nsol1, sol2 = split_tuple(T)\n\nprint(\"First Tuple : \",sol1)\nprint(\"Other Tuple : \",sol2)",
      "execution_count": 11,
      "outputs": [
        {
          "output_type": "stream",
          "text": "First Tuple :  (5, 4, 3)\nOther Tuple :  (9, 2, 12)\n",
          "name": "stdout"
        }
      ]
    },
    {
      "metadata": {
        "trusted": true
      },
      "cell_type": "code",
      "source": "#Take a tuple, split it up \n\ndef split_tuple(T):\n    Ts = T.split(\" \") \n    T1 = Ts[:3]\n    T2 = Ts[-3:]\n    return(T1,T2)\nT = input(\"Enter a list of 6 nos: \")\n\n(sol1, sol2) = split_tuple(T)\n\nsol11 = tuple(sol1)\nsol22 = tuple(sol2)\nprint(sol11)\nprint(sol22)",
      "execution_count": 19,
      "outputs": [
        {
          "output_type": "stream",
          "name": "stdout",
          "text": "Enter a list of 6 nos: 3 8 5 0 4 1\n('3', '8', '5')\n('0', '4', '1')\n"
        }
      ]
    },
    {
      "metadata": {
        "trusted": true
      },
      "cell_type": "code",
      "source": "# [ ] Write an expression to unpack `T` into:\n# 1) x = 5\n# 2) l = [3, 5.3]\n# 3) s = 'something\n# 4) t = (9, 0)\n\nT = (5, [3, 5.3], 'something', (9, 0))\n\nx = T[0]\nl = T[1]\ns = T[2]\nt = T[3]\n\nprint(\"After unpacking the tuple:\", T)\nprint(\"x =\", x)\nprint(\"l =\", l)\nprint(\"s =\", s)\nprint(\"t =\", t)\n\n\n",
      "execution_count": 20,
      "outputs": [
        {
          "output_type": "stream",
          "text": "After unpacking the tuple: (5, [3, 5.3], 'something', (9, 0))\nx = 5\nl = [3, 5.3]\ns = something\nt = (9, 0)\n",
          "name": "stdout"
        }
      ]
    },
    {
      "metadata": {
        "trusted": true
      },
      "cell_type": "code",
      "source": "# [ ] Complete the function `current_date` to return today's month, day, and year\n# Hint: Use an appropriate function from the datetime module\n\ndef current_date():\n    pass\n    #TODO return month, day, year\n\nm, d, y = current_date()\nprint(\"Today's date is: {:2d}/{:2d}/{:4d}\".format(m, d, y))",
      "execution_count": null,
      "outputs": []
    }
  ],
  "metadata": {
    "kernelspec": {
      "name": "python3",
      "display_name": "Python 3",
      "language": "python"
    },
    "language_info": {
      "mimetype": "text/x-python",
      "nbconvert_exporter": "python",
      "name": "python",
      "pygments_lexer": "ipython3",
      "version": "3.5.4",
      "file_extension": ".py",
      "codemirror_mode": {
        "version": 3,
        "name": "ipython"
      }
    }
  },
  "nbformat": 4,
  "nbformat_minor": 2
}